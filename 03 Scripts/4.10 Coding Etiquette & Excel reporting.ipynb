{
 "cells": [
  {
   "cell_type": "code",
   "execution_count": 2,
   "id": "e68c6826",
   "metadata": {},
   "outputs": [],
   "source": [
    "# Import data & libraries #\n",
    "import pandas as pd\n",
    "import numpy as np\n",
    "import os\n",
    "import matplotlib.pyplot as plt\n",
    "import seaborn as sns\n",
    "import scipy"
   ]
  },
  {
   "cell_type": "code",
   "execution_count": 3,
   "id": "6e8bc5d5",
   "metadata": {},
   "outputs": [],
   "source": [
    "## Python shortcut to folder path ##\n",
    "path = r'C:\\Users\\hazem\\01-2023 Instacart Basket Analysis - Master Folder'"
   ]
  },
  {
   "cell_type": "code",
   "execution_count": 4,
   "id": "76ef358b",
   "metadata": {},
   "outputs": [],
   "source": [
    "df_insta_merge = pd.read_pickle(os.path.join(path, '02 Data', 'Prepared Data', 'Instacart_merged.pkl'))"
   ]
  },
  {
   "cell_type": "code",
   "execution_count": 5,
   "id": "88ffc8f2",
   "metadata": {
    "scrolled": true
   },
   "outputs": [
    {
     "data": {
      "text/plain": [
       "(32404859, 30)"
      ]
     },
     "execution_count": 5,
     "metadata": {},
     "output_type": "execute_result"
    }
   ],
   "source": [
    "df_insta_merge.shape"
   ]
  },
  {
   "cell_type": "code",
   "execution_count": 6,
   "id": "874f2e55",
   "metadata": {},
   "outputs": [
    {
     "data": {
      "text/html": [
       "<div>\n",
       "<style scoped>\n",
       "    .dataframe tbody tr th:only-of-type {\n",
       "        vertical-align: middle;\n",
       "    }\n",
       "\n",
       "    .dataframe tbody tr th {\n",
       "        vertical-align: top;\n",
       "    }\n",
       "\n",
       "    .dataframe thead th {\n",
       "        text-align: right;\n",
       "    }\n",
       "</style>\n",
       "<table border=\"1\" class=\"dataframe\">\n",
       "  <thead>\n",
       "    <tr style=\"text-align: right;\">\n",
       "      <th></th>\n",
       "      <th>product_id</th>\n",
       "      <th>product_name</th>\n",
       "      <th>aisle_id</th>\n",
       "      <th>department_id</th>\n",
       "      <th>prices</th>\n",
       "      <th>order_id</th>\n",
       "      <th>user_id</th>\n",
       "      <th>order_number</th>\n",
       "      <th>orders_day_of_week</th>\n",
       "      <th>order_hour_of_day</th>\n",
       "      <th>...</th>\n",
       "      <th>average_price</th>\n",
       "      <th>spending_flag</th>\n",
       "      <th>median_of_prior_orders</th>\n",
       "      <th>order_frequency_flag</th>\n",
       "      <th>Gender</th>\n",
       "      <th>State</th>\n",
       "      <th>Age</th>\n",
       "      <th>date_joined</th>\n",
       "      <th>dependants</th>\n",
       "      <th>Annual_income</th>\n",
       "    </tr>\n",
       "  </thead>\n",
       "  <tbody>\n",
       "    <tr>\n",
       "      <th>0</th>\n",
       "      <td>1</td>\n",
       "      <td>Chocolate Sandwich Cookies</td>\n",
       "      <td>61</td>\n",
       "      <td>19</td>\n",
       "      <td>5.8</td>\n",
       "      <td>3139998</td>\n",
       "      <td>138</td>\n",
       "      <td>28</td>\n",
       "      <td>6</td>\n",
       "      <td>11</td>\n",
       "      <td>...</td>\n",
       "      <td>6.935811</td>\n",
       "      <td>Low spender</td>\n",
       "      <td>8.0</td>\n",
       "      <td>Frequent customer</td>\n",
       "      <td>Male</td>\n",
       "      <td>Minnesota</td>\n",
       "      <td>81</td>\n",
       "      <td>8/1/2019</td>\n",
       "      <td>1</td>\n",
       "      <td>49620</td>\n",
       "    </tr>\n",
       "    <tr>\n",
       "      <th>1</th>\n",
       "      <td>1</td>\n",
       "      <td>Chocolate Sandwich Cookies</td>\n",
       "      <td>61</td>\n",
       "      <td>19</td>\n",
       "      <td>5.8</td>\n",
       "      <td>1977647</td>\n",
       "      <td>138</td>\n",
       "      <td>30</td>\n",
       "      <td>6</td>\n",
       "      <td>17</td>\n",
       "      <td>...</td>\n",
       "      <td>6.935811</td>\n",
       "      <td>Low spender</td>\n",
       "      <td>8.0</td>\n",
       "      <td>Frequent customer</td>\n",
       "      <td>Male</td>\n",
       "      <td>Minnesota</td>\n",
       "      <td>81</td>\n",
       "      <td>8/1/2019</td>\n",
       "      <td>1</td>\n",
       "      <td>49620</td>\n",
       "    </tr>\n",
       "    <tr>\n",
       "      <th>2</th>\n",
       "      <td>907</td>\n",
       "      <td>Premium Sliced Bacon</td>\n",
       "      <td>106</td>\n",
       "      <td>12</td>\n",
       "      <td>20.0</td>\n",
       "      <td>3160996</td>\n",
       "      <td>138</td>\n",
       "      <td>1</td>\n",
       "      <td>5</td>\n",
       "      <td>13</td>\n",
       "      <td>...</td>\n",
       "      <td>6.935811</td>\n",
       "      <td>Low spender</td>\n",
       "      <td>8.0</td>\n",
       "      <td>Frequent customer</td>\n",
       "      <td>Male</td>\n",
       "      <td>Minnesota</td>\n",
       "      <td>81</td>\n",
       "      <td>8/1/2019</td>\n",
       "      <td>1</td>\n",
       "      <td>49620</td>\n",
       "    </tr>\n",
       "    <tr>\n",
       "      <th>3</th>\n",
       "      <td>907</td>\n",
       "      <td>Premium Sliced Bacon</td>\n",
       "      <td>106</td>\n",
       "      <td>12</td>\n",
       "      <td>20.0</td>\n",
       "      <td>2254091</td>\n",
       "      <td>138</td>\n",
       "      <td>10</td>\n",
       "      <td>5</td>\n",
       "      <td>14</td>\n",
       "      <td>...</td>\n",
       "      <td>6.935811</td>\n",
       "      <td>Low spender</td>\n",
       "      <td>8.0</td>\n",
       "      <td>Frequent customer</td>\n",
       "      <td>Male</td>\n",
       "      <td>Minnesota</td>\n",
       "      <td>81</td>\n",
       "      <td>8/1/2019</td>\n",
       "      <td>1</td>\n",
       "      <td>49620</td>\n",
       "    </tr>\n",
       "    <tr>\n",
       "      <th>4</th>\n",
       "      <td>1000</td>\n",
       "      <td>Apricots</td>\n",
       "      <td>18</td>\n",
       "      <td>10</td>\n",
       "      <td>12.9</td>\n",
       "      <td>505689</td>\n",
       "      <td>138</td>\n",
       "      <td>9</td>\n",
       "      <td>6</td>\n",
       "      <td>12</td>\n",
       "      <td>...</td>\n",
       "      <td>6.935811</td>\n",
       "      <td>Low spender</td>\n",
       "      <td>8.0</td>\n",
       "      <td>Frequent customer</td>\n",
       "      <td>Male</td>\n",
       "      <td>Minnesota</td>\n",
       "      <td>81</td>\n",
       "      <td>8/1/2019</td>\n",
       "      <td>1</td>\n",
       "      <td>49620</td>\n",
       "    </tr>\n",
       "  </tbody>\n",
       "</table>\n",
       "<p>5 rows × 30 columns</p>\n",
       "</div>"
      ],
      "text/plain": [
       "   product_id                product_name  aisle_id  department_id  prices  \\\n",
       "0           1  Chocolate Sandwich Cookies        61             19     5.8   \n",
       "1           1  Chocolate Sandwich Cookies        61             19     5.8   \n",
       "2         907        Premium Sliced Bacon       106             12    20.0   \n",
       "3         907        Premium Sliced Bacon       106             12    20.0   \n",
       "4        1000                    Apricots        18             10    12.9   \n",
       "\n",
       "   order_id user_id  order_number  orders_day_of_week  order_hour_of_day  ...  \\\n",
       "0   3139998     138            28                   6                 11  ...   \n",
       "1   1977647     138            30                   6                 17  ...   \n",
       "2   3160996     138             1                   5                 13  ...   \n",
       "3   2254091     138            10                   5                 14  ...   \n",
       "4    505689     138             9                   6                 12  ...   \n",
       "\n",
       "   average_price  spending_flag  median_of_prior_orders order_frequency_flag  \\\n",
       "0       6.935811    Low spender                     8.0    Frequent customer   \n",
       "1       6.935811    Low spender                     8.0    Frequent customer   \n",
       "2       6.935811    Low spender                     8.0    Frequent customer   \n",
       "3       6.935811    Low spender                     8.0    Frequent customer   \n",
       "4       6.935811    Low spender                     8.0    Frequent customer   \n",
       "\n",
       "  Gender      State Age date_joined  dependants Annual_income  \n",
       "0   Male  Minnesota  81    8/1/2019           1         49620  \n",
       "1   Male  Minnesota  81    8/1/2019           1         49620  \n",
       "2   Male  Minnesota  81    8/1/2019           1         49620  \n",
       "3   Male  Minnesota  81    8/1/2019           1         49620  \n",
       "4   Male  Minnesota  81    8/1/2019           1         49620  \n",
       "\n",
       "[5 rows x 30 columns]"
      ]
     },
     "execution_count": 6,
     "metadata": {},
     "output_type": "execute_result"
    }
   ],
   "source": [
    "df_insta_merge.head()"
   ]
  },
  {
   "cell_type": "markdown",
   "id": "42af8b08",
   "metadata": {},
   "source": [
    "# Create a regional segmentation of the data. a “Region” column based on the “State” column from your customers data set."
   ]
  },
  {
   "cell_type": "code",
   "execution_count": 7,
   "id": "c15dec0f",
   "metadata": {},
   "outputs": [
    {
     "data": {
      "text/plain": [
       "Pennsylvania            667082\n",
       "California              659783\n",
       "Rhode Island            656913\n",
       "Georgia                 656389\n",
       "New Mexico              654494\n",
       "Arizona                 653964\n",
       "North Carolina          651900\n",
       "Oklahoma                651739\n",
       "Alaska                  648495\n",
       "Minnesota               647825\n",
       "Massachusetts           646358\n",
       "Wyoming                 644255\n",
       "Virginia                641421\n",
       "Missouri                640732\n",
       "Texas                   640394\n",
       "Colorado                639280\n",
       "Maine                   638583\n",
       "North Dakota            638491\n",
       "Alabama                 638003\n",
       "Kansas                  637538\n",
       "Louisiana               637482\n",
       "Delaware                637024\n",
       "South Carolina          636754\n",
       "Oregon                  636425\n",
       "Arkansas                636144\n",
       "Nevada                  636139\n",
       "New York                635983\n",
       "Montana                 635265\n",
       "South Dakota            633772\n",
       "Illinois                633024\n",
       "Hawaii                  632901\n",
       "Washington              632852\n",
       "Mississippi             632675\n",
       "Kentucky                632490\n",
       "Michigan                630928\n",
       "Florida                 629027\n",
       "Ohio                    628319\n",
       "Wisconsin               628108\n",
       "New Jersey              627692\n",
       "Indiana                 627282\n",
       "Maryland                626579\n",
       "Nebraska                625813\n",
       "Iowa                    625493\n",
       "Connecticut             623022\n",
       "Tennessee               617873\n",
       "New Hampshire           615378\n",
       "District of Columbia    613695\n",
       "West Virginia           612296\n",
       "Utah                    611941\n",
       "Vermont                 611725\n",
       "Idaho                   607119\n",
       "Name: State, dtype: int64"
      ]
     },
     "execution_count": 7,
     "metadata": {},
     "output_type": "execute_result"
    }
   ],
   "source": [
    "# Checking value counts for the state column\n",
    "df_insta_merge['State'].value_counts()"
   ]
  },
  {
   "cell_type": "markdown",
   "id": "64c2bc45",
   "metadata": {},
   "source": [
    "# Creating Regions based on states distribution #"
   ]
  },
  {
   "cell_type": "code",
   "execution_count": 8,
   "id": "67a3e100",
   "metadata": {},
   "outputs": [],
   "source": [
    "Northeast = ['Maine', 'New Hampshire', 'Vermont', 'Massachusetts', 'Rhode Island', 'Connecticut', 'New York', 'Pennsylvania', 'New Jersey']"
   ]
  },
  {
   "cell_type": "code",
   "execution_count": 9,
   "id": "c40e2d1e",
   "metadata": {},
   "outputs": [],
   "source": [
    "Midwest = ['Wisconsin', 'Michigan', 'Illinois', 'Indiana', 'Ohio', 'North Dakota', 'South Dakota', 'Nebraska', 'Kansas', 'Minnesota', 'Iowa', 'Missouri']"
   ]
  },
  {
   "cell_type": "code",
   "execution_count": 10,
   "id": "d51273bc",
   "metadata": {},
   "outputs": [],
   "source": [
    "South = ['Delaware', 'Maryland', 'District of Columbia', 'Virginia', 'West Virginia', 'North Carolina', 'South Carolina', 'Georgia', 'Florida', 'Kentucky',\n",
    "'Tennessee', 'Mississippi', 'Alabama', 'Oklahoma', 'Texas', 'Arkansas', 'Louisiana']"
   ]
  },
  {
   "cell_type": "code",
   "execution_count": 11,
   "id": "fe4ad2e9",
   "metadata": {},
   "outputs": [],
   "source": [
    "West = ['Idaho', 'Montana', 'Wyoming', 'Nevada', 'Utah', 'Colorado', 'Arizona', 'New Mexico', 'Alaska', 'Washington', 'Oregon', 'California', 'Hawaii']"
   ]
  },
  {
   "cell_type": "markdown",
   "id": "1e32bb82",
   "metadata": {},
   "source": [
    "# Return all regions into 'region' column #"
   ]
  },
  {
   "cell_type": "code",
   "execution_count": 12,
   "id": "c0518589",
   "metadata": {},
   "outputs": [],
   "source": [
    "df_insta_merge.loc[df_insta_merge['State'].isin(Northeast), 'region'] = 'Northeast'"
   ]
  },
  {
   "cell_type": "code",
   "execution_count": 13,
   "id": "4eacafb8",
   "metadata": {},
   "outputs": [],
   "source": [
    "df_insta_merge.loc[df_insta_merge['State'].isin(Midwest), 'region'] = 'Midwest'"
   ]
  },
  {
   "cell_type": "code",
   "execution_count": 14,
   "id": "820df6b0",
   "metadata": {},
   "outputs": [],
   "source": [
    "df_insta_merge.loc[df_insta_merge['State'].isin(South), 'region'] = 'South'"
   ]
  },
  {
   "cell_type": "code",
   "execution_count": 15,
   "id": "d03ed4e6",
   "metadata": {},
   "outputs": [],
   "source": [
    "df_insta_merge.loc[df_insta_merge['State'].isin(West), 'region'] = 'West'"
   ]
  },
  {
   "cell_type": "markdown",
   "id": "1e3a548e",
   "metadata": {},
   "source": [
    "## Checking 'region' column"
   ]
  },
  {
   "cell_type": "code",
   "execution_count": 16,
   "id": "ada28cb7",
   "metadata": {},
   "outputs": [
    {
     "data": {
      "text/plain": [
       "(32404859, 31)"
      ]
     },
     "execution_count": 16,
     "metadata": {},
     "output_type": "execute_result"
    }
   ],
   "source": [
    "df_insta_merge.shape"
   ]
  },
  {
   "cell_type": "code",
   "execution_count": 17,
   "id": "e114c132",
   "metadata": {},
   "outputs": [
    {
     "data": {
      "text/html": [
       "<div>\n",
       "<style scoped>\n",
       "    .dataframe tbody tr th:only-of-type {\n",
       "        vertical-align: middle;\n",
       "    }\n",
       "\n",
       "    .dataframe tbody tr th {\n",
       "        vertical-align: top;\n",
       "    }\n",
       "\n",
       "    .dataframe thead th {\n",
       "        text-align: right;\n",
       "    }\n",
       "</style>\n",
       "<table border=\"1\" class=\"dataframe\">\n",
       "  <thead>\n",
       "    <tr style=\"text-align: right;\">\n",
       "      <th></th>\n",
       "      <th>product_id</th>\n",
       "      <th>product_name</th>\n",
       "      <th>aisle_id</th>\n",
       "      <th>department_id</th>\n",
       "      <th>prices</th>\n",
       "      <th>order_id</th>\n",
       "      <th>user_id</th>\n",
       "      <th>order_number</th>\n",
       "      <th>orders_day_of_week</th>\n",
       "      <th>order_hour_of_day</th>\n",
       "      <th>...</th>\n",
       "      <th>spending_flag</th>\n",
       "      <th>median_of_prior_orders</th>\n",
       "      <th>order_frequency_flag</th>\n",
       "      <th>Gender</th>\n",
       "      <th>State</th>\n",
       "      <th>Age</th>\n",
       "      <th>date_joined</th>\n",
       "      <th>dependants</th>\n",
       "      <th>Annual_income</th>\n",
       "      <th>region</th>\n",
       "    </tr>\n",
       "  </thead>\n",
       "  <tbody>\n",
       "    <tr>\n",
       "      <th>0</th>\n",
       "      <td>1</td>\n",
       "      <td>Chocolate Sandwich Cookies</td>\n",
       "      <td>61</td>\n",
       "      <td>19</td>\n",
       "      <td>5.8</td>\n",
       "      <td>3139998</td>\n",
       "      <td>138</td>\n",
       "      <td>28</td>\n",
       "      <td>6</td>\n",
       "      <td>11</td>\n",
       "      <td>...</td>\n",
       "      <td>Low spender</td>\n",
       "      <td>8.0</td>\n",
       "      <td>Frequent customer</td>\n",
       "      <td>Male</td>\n",
       "      <td>Minnesota</td>\n",
       "      <td>81</td>\n",
       "      <td>8/1/2019</td>\n",
       "      <td>1</td>\n",
       "      <td>49620</td>\n",
       "      <td>Midwest</td>\n",
       "    </tr>\n",
       "    <tr>\n",
       "      <th>1</th>\n",
       "      <td>1</td>\n",
       "      <td>Chocolate Sandwich Cookies</td>\n",
       "      <td>61</td>\n",
       "      <td>19</td>\n",
       "      <td>5.8</td>\n",
       "      <td>1977647</td>\n",
       "      <td>138</td>\n",
       "      <td>30</td>\n",
       "      <td>6</td>\n",
       "      <td>17</td>\n",
       "      <td>...</td>\n",
       "      <td>Low spender</td>\n",
       "      <td>8.0</td>\n",
       "      <td>Frequent customer</td>\n",
       "      <td>Male</td>\n",
       "      <td>Minnesota</td>\n",
       "      <td>81</td>\n",
       "      <td>8/1/2019</td>\n",
       "      <td>1</td>\n",
       "      <td>49620</td>\n",
       "      <td>Midwest</td>\n",
       "    </tr>\n",
       "    <tr>\n",
       "      <th>2</th>\n",
       "      <td>907</td>\n",
       "      <td>Premium Sliced Bacon</td>\n",
       "      <td>106</td>\n",
       "      <td>12</td>\n",
       "      <td>20.0</td>\n",
       "      <td>3160996</td>\n",
       "      <td>138</td>\n",
       "      <td>1</td>\n",
       "      <td>5</td>\n",
       "      <td>13</td>\n",
       "      <td>...</td>\n",
       "      <td>Low spender</td>\n",
       "      <td>8.0</td>\n",
       "      <td>Frequent customer</td>\n",
       "      <td>Male</td>\n",
       "      <td>Minnesota</td>\n",
       "      <td>81</td>\n",
       "      <td>8/1/2019</td>\n",
       "      <td>1</td>\n",
       "      <td>49620</td>\n",
       "      <td>Midwest</td>\n",
       "    </tr>\n",
       "    <tr>\n",
       "      <th>3</th>\n",
       "      <td>907</td>\n",
       "      <td>Premium Sliced Bacon</td>\n",
       "      <td>106</td>\n",
       "      <td>12</td>\n",
       "      <td>20.0</td>\n",
       "      <td>2254091</td>\n",
       "      <td>138</td>\n",
       "      <td>10</td>\n",
       "      <td>5</td>\n",
       "      <td>14</td>\n",
       "      <td>...</td>\n",
       "      <td>Low spender</td>\n",
       "      <td>8.0</td>\n",
       "      <td>Frequent customer</td>\n",
       "      <td>Male</td>\n",
       "      <td>Minnesota</td>\n",
       "      <td>81</td>\n",
       "      <td>8/1/2019</td>\n",
       "      <td>1</td>\n",
       "      <td>49620</td>\n",
       "      <td>Midwest</td>\n",
       "    </tr>\n",
       "    <tr>\n",
       "      <th>4</th>\n",
       "      <td>1000</td>\n",
       "      <td>Apricots</td>\n",
       "      <td>18</td>\n",
       "      <td>10</td>\n",
       "      <td>12.9</td>\n",
       "      <td>505689</td>\n",
       "      <td>138</td>\n",
       "      <td>9</td>\n",
       "      <td>6</td>\n",
       "      <td>12</td>\n",
       "      <td>...</td>\n",
       "      <td>Low spender</td>\n",
       "      <td>8.0</td>\n",
       "      <td>Frequent customer</td>\n",
       "      <td>Male</td>\n",
       "      <td>Minnesota</td>\n",
       "      <td>81</td>\n",
       "      <td>8/1/2019</td>\n",
       "      <td>1</td>\n",
       "      <td>49620</td>\n",
       "      <td>Midwest</td>\n",
       "    </tr>\n",
       "  </tbody>\n",
       "</table>\n",
       "<p>5 rows × 31 columns</p>\n",
       "</div>"
      ],
      "text/plain": [
       "   product_id                product_name  aisle_id  department_id  prices  \\\n",
       "0           1  Chocolate Sandwich Cookies        61             19     5.8   \n",
       "1           1  Chocolate Sandwich Cookies        61             19     5.8   \n",
       "2         907        Premium Sliced Bacon       106             12    20.0   \n",
       "3         907        Premium Sliced Bacon       106             12    20.0   \n",
       "4        1000                    Apricots        18             10    12.9   \n",
       "\n",
       "   order_id user_id  order_number  orders_day_of_week  order_hour_of_day  ...  \\\n",
       "0   3139998     138            28                   6                 11  ...   \n",
       "1   1977647     138            30                   6                 17  ...   \n",
       "2   3160996     138             1                   5                 13  ...   \n",
       "3   2254091     138            10                   5                 14  ...   \n",
       "4    505689     138             9                   6                 12  ...   \n",
       "\n",
       "   spending_flag  median_of_prior_orders  order_frequency_flag Gender  \\\n",
       "0    Low spender                     8.0     Frequent customer   Male   \n",
       "1    Low spender                     8.0     Frequent customer   Male   \n",
       "2    Low spender                     8.0     Frequent customer   Male   \n",
       "3    Low spender                     8.0     Frequent customer   Male   \n",
       "4    Low spender                     8.0     Frequent customer   Male   \n",
       "\n",
       "       State Age date_joined dependants  Annual_income   region  \n",
       "0  Minnesota  81    8/1/2019          1          49620  Midwest  \n",
       "1  Minnesota  81    8/1/2019          1          49620  Midwest  \n",
       "2  Minnesota  81    8/1/2019          1          49620  Midwest  \n",
       "3  Minnesota  81    8/1/2019          1          49620  Midwest  \n",
       "4  Minnesota  81    8/1/2019          1          49620  Midwest  \n",
       "\n",
       "[5 rows x 31 columns]"
      ]
     },
     "execution_count": 17,
     "metadata": {},
     "output_type": "execute_result"
    }
   ],
   "source": [
    "df_insta_merge.head()"
   ]
  },
  {
   "cell_type": "code",
   "execution_count": 18,
   "id": "f7b841e1",
   "metadata": {},
   "outputs": [
    {
     "data": {
      "text/plain": [
       "South        10791885\n",
       "West          8292913\n",
       "Midwest       7597325\n",
       "Northeast     5722736\n",
       "Name: region, dtype: int64"
      ]
     },
     "execution_count": 18,
     "metadata": {},
     "output_type": "execute_result"
    }
   ],
   "source": [
    "df_insta_merge['region'].value_counts()"
   ]
  },
  {
   "cell_type": "markdown",
   "id": "f446815e",
   "metadata": {},
   "source": [
    "## Determine whether there’s a difference in spending habits between the different U.S. regions ##"
   ]
  },
  {
   "cell_type": "code",
   "execution_count": 19,
   "id": "c2dc8d5c",
   "metadata": {},
   "outputs": [],
   "source": [
    "# Creating crosstab according to region and spending flag\n",
    "crosstab = pd.crosstab(df_insta_merge['region'], df_insta_merge['spending_flag'], dropna = False)"
   ]
  },
  {
   "cell_type": "code",
   "execution_count": 20,
   "id": "b334b4e0",
   "metadata": {
    "scrolled": true
   },
   "outputs": [
    {
     "data": {
      "text/html": [
       "<div>\n",
       "<style scoped>\n",
       "    .dataframe tbody tr th:only-of-type {\n",
       "        vertical-align: middle;\n",
       "    }\n",
       "\n",
       "    .dataframe tbody tr th {\n",
       "        vertical-align: top;\n",
       "    }\n",
       "\n",
       "    .dataframe thead th {\n",
       "        text-align: right;\n",
       "    }\n",
       "</style>\n",
       "<table border=\"1\" class=\"dataframe\">\n",
       "  <thead>\n",
       "    <tr style=\"text-align: right;\">\n",
       "      <th>spending_flag</th>\n",
       "      <th>High spender</th>\n",
       "      <th>Low spender</th>\n",
       "    </tr>\n",
       "    <tr>\n",
       "      <th>region</th>\n",
       "      <th></th>\n",
       "      <th></th>\n",
       "    </tr>\n",
       "  </thead>\n",
       "  <tbody>\n",
       "    <tr>\n",
       "      <th>Midwest</th>\n",
       "      <td>155975</td>\n",
       "      <td>7441350</td>\n",
       "    </tr>\n",
       "    <tr>\n",
       "      <th>Northeast</th>\n",
       "      <td>108225</td>\n",
       "      <td>5614511</td>\n",
       "    </tr>\n",
       "    <tr>\n",
       "      <th>South</th>\n",
       "      <td>209691</td>\n",
       "      <td>10582194</td>\n",
       "    </tr>\n",
       "    <tr>\n",
       "      <th>West</th>\n",
       "      <td>160354</td>\n",
       "      <td>8132559</td>\n",
       "    </tr>\n",
       "  </tbody>\n",
       "</table>\n",
       "</div>"
      ],
      "text/plain": [
       "spending_flag  High spender  Low spender\n",
       "region                                  \n",
       "Midwest              155975      7441350\n",
       "Northeast            108225      5614511\n",
       "South                209691     10582194\n",
       "West                 160354      8132559"
      ]
     },
     "execution_count": 20,
     "metadata": {},
     "output_type": "execute_result"
    }
   ],
   "source": [
    "crosstab"
   ]
  },
  {
   "cell_type": "markdown",
   "id": "a9261a4f",
   "metadata": {},
   "source": [
    "#Low spenders has the majority over all regions (South region the highest)#"
   ]
  },
  {
   "cell_type": "code",
   "execution_count": 21,
   "id": "b8e95ce5",
   "metadata": {},
   "outputs": [],
   "source": [
    "# export data set as a pickle file #\n",
    "df_insta_merge.to_pickle(os.path.join(path, '02 Data','Prepared Data', 'Instacart_merged.pkl'))"
   ]
  },
  {
   "cell_type": "code",
   "execution_count": null,
   "id": "dfe4ace5",
   "metadata": {},
   "outputs": [],
   "source": []
  }
 ],
 "metadata": {
  "kernelspec": {
   "display_name": "Python 3 (ipykernel)",
   "language": "python",
   "name": "python3"
  },
  "language_info": {
   "codemirror_mode": {
    "name": "ipython",
    "version": 3
   },
   "file_extension": ".py",
   "mimetype": "text/x-python",
   "name": "python",
   "nbconvert_exporter": "python",
   "pygments_lexer": "ipython3",
   "version": "3.9.13"
  }
 },
 "nbformat": 4,
 "nbformat_minor": 5
}

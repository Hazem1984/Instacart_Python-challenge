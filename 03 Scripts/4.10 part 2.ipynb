{
 "cells": [
  {
   "cell_type": "code",
   "execution_count": 1,
   "id": "19b05b39",
   "metadata": {},
   "outputs": [],
   "source": [
    "# Import data & libraries #\n",
    "import pandas as pd\n",
    "import numpy as np\n",
    "import os\n",
    "import matplotlib.pyplot as plt\n",
    "import seaborn as sns\n",
    "import scipy"
   ]
  },
  {
   "cell_type": "code",
   "execution_count": 2,
   "id": "78ab754c",
   "metadata": {},
   "outputs": [],
   "source": [
    "###Python shortcut to folder path###\n",
    "path = r'C:\\Users\\hazem\\01-2023 Instacart Basket Analysis - Master Folder'"
   ]
  },
  {
   "cell_type": "code",
   "execution_count": 3,
   "id": "6a8dcc4f",
   "metadata": {},
   "outputs": [],
   "source": [
    "df_instacart = pd.read_pickle(os.path.join(path, '02 Data', 'Prepared Data', 'instacart_merged.pkl'))"
   ]
  },
  {
   "cell_type": "markdown",
   "id": "d7de0fbd",
   "metadata": {},
   "source": [
    "# Create an exclusion flag for low-activity customers (customers with less than 5 orders) and exclude them from the data. Make sure you export this sample"
   ]
  },
  {
   "cell_type": "code",
   "execution_count": 4,
   "id": "a78d696b",
   "metadata": {},
   "outputs": [],
   "source": [
    "# Creating exclusion flag #\n",
    "df_instacart.loc[df_instacart['max_order'] < 5, 'exclusion flag'] = 'low-activity'\n",
    "df_instacart.loc[df_instacart['max_order'] >= 5, 'exclusion flag'] = 'high-activity'"
   ]
  },
  {
   "cell_type": "code",
   "execution_count": 5,
   "id": "1f2e4586",
   "metadata": {},
   "outputs": [
    {
     "data": {
      "text/plain": [
       "high-activity    30964564\n",
       "low-activity      1440295\n",
       "Name: exclusion flag, dtype: int64"
      ]
     },
     "execution_count": 5,
     "metadata": {},
     "output_type": "execute_result"
    }
   ],
   "source": [
    "df_instacart['exclusion flag'].value_counts()"
   ]
  },
  {
   "cell_type": "code",
   "execution_count": 6,
   "id": "9085a8c8",
   "metadata": {},
   "outputs": [],
   "source": [
    "# Excluding low activiy custumers from the dataset #\n",
    "df_instacart = df_instacart.loc[df_instacart['exclusion flag'] == 'high-activity']"
   ]
  },
  {
   "cell_type": "code",
   "execution_count": 7,
   "id": "dab3ee9e",
   "metadata": {},
   "outputs": [
    {
     "data": {
      "text/plain": [
       "(30964564, 32)"
      ]
     },
     "execution_count": 7,
     "metadata": {},
     "output_type": "execute_result"
    }
   ],
   "source": [
    "df_instacart.shape"
   ]
  },
  {
   "cell_type": "code",
   "execution_count": 8,
   "id": "417c3320",
   "metadata": {},
   "outputs": [],
   "source": [
    "# Export data frame excluding low activity customers\n",
    "df_instacart.to_pickle(os.path.join(path, '02 Data', 'Prepared Data', 'high_activity_customers.pkl'))"
   ]
  },
  {
   "cell_type": "markdown",
   "id": "6c3683d3",
   "metadata": {},
   "source": [
    "# (5) Create a profiling variable based on age, income, certain goods in the “department_id” column, and number of dependents"
   ]
  },
  {
   "cell_type": "markdown",
   "id": "ab2978e6",
   "metadata": {},
   "source": [
    "#Create customer_profile column#"
   ]
  },
  {
   "cell_type": "code",
   "execution_count": 9,
   "id": "870eef65",
   "metadata": {
    "scrolled": true
   },
   "outputs": [
    {
     "data": {
      "text/plain": [
       "Index(['product_id', 'product_name', 'aisle_id', 'department_id', 'prices',\n",
       "       'order_id', 'user_id', 'order_number', 'orders_day_of_week',\n",
       "       'order_hour_of_day', 'days_since_prior_order', 'add_to_cart_order',\n",
       "       'reordered', '_merge', 'price_range_loc', 'busiest_day', 'busy_days',\n",
       "       'busiest_period_of_day', 'max_order', 'loyalty_flag', 'average_price',\n",
       "       'spending_flag', 'median_of_prior_orders', 'order_frequency_flag',\n",
       "       'Gender', 'State', 'Age', 'date_joined', 'dependants', 'Annual_income',\n",
       "       'region', 'exclusion flag'],\n",
       "      dtype='object')"
      ]
     },
     "execution_count": 9,
     "metadata": {},
     "output_type": "execute_result"
    }
   ],
   "source": [
    "df_instacart.columns"
   ]
  },
  {
   "cell_type": "code",
   "execution_count": 10,
   "id": "ee3beb21",
   "metadata": {},
   "outputs": [],
   "source": [
    "# creating profile for big family with low income (below $100,000)\n",
    "df_instacart.loc[(df_instacart['dependants'] == 3) & (df_instacart['Annual_income'] < 100000), 'customer_profile'] = 'big family_low income'"
   ]
  },
  {
   "cell_type": "code",
   "execution_count": 11,
   "id": "ec05e954",
   "metadata": {},
   "outputs": [],
   "source": [
    "# creating profile for medium family with low income (below $100,000)\n",
    "df_instacart.loc[(df_instacart['dependants'] == 2) & (df_instacart['Annual_income'] < 100000), 'customer_profile'] = 'medium family_low income'"
   ]
  },
  {
   "cell_type": "code",
   "execution_count": 12,
   "id": "95a56dd7",
   "metadata": {},
   "outputs": [],
   "source": [
    "# creating profile for small family with low income (below $100,000)\n",
    "df_instacart.loc[(df_instacart['dependants'] == 1) & (df_instacart['Annual_income'] < 100000), 'customer_profile'] = 'small family_low income'"
   ]
  },
  {
   "cell_type": "code",
   "execution_count": 13,
   "id": "53c27461",
   "metadata": {},
   "outputs": [],
   "source": [
    "# creating profile for big family with high income (over $100,000)\n",
    "df_instacart.loc[(df_instacart['dependants'] == 3) & (df_instacart['Annual_income'] > 100000), 'customer_profile'] = 'big family_high income'"
   ]
  },
  {
   "cell_type": "code",
   "execution_count": 14,
   "id": "44ccc369",
   "metadata": {},
   "outputs": [],
   "source": [
    "# creating profile for medium family with high income (over $100,000)\n",
    "df_instacart.loc[(df_instacart['dependants'] == 2) & (df_instacart['Annual_income'] > 100000), 'customer_profile'] = 'medium family_high income'"
   ]
  },
  {
   "cell_type": "code",
   "execution_count": 15,
   "id": "4dd192fe",
   "metadata": {},
   "outputs": [],
   "source": [
    "# creating profile for small family with high income (over $100,000)\n",
    "df_instacart.loc[(df_instacart['dependants'] == 1) & (df_instacart['Annual_income'] > 100000), 'customer_profile'] = 'small family_high income'"
   ]
  },
  {
   "cell_type": "code",
   "execution_count": 16,
   "id": "ca334a09",
   "metadata": {},
   "outputs": [],
   "source": [
    "# creating profile for single adult with high income (over $100,000)\n",
    "df_instacart.loc[(df_instacart['dependants'] == 0) & (df_instacart['Annual_income'] > 100000), 'customer_profile'] = 'single adult_high income'"
   ]
  },
  {
   "cell_type": "code",
   "execution_count": 17,
   "id": "1bd7cae8",
   "metadata": {},
   "outputs": [],
   "source": [
    "# creating profile for single adult with low income (below $100,000)\n",
    "df_instacart.loc[(df_instacart['dependants'] == 0) & (df_instacart['Annual_income'] < 100000), 'customer_profile'] = 'single adult_low income'"
   ]
  },
  {
   "cell_type": "code",
   "execution_count": 18,
   "id": "0f060e19",
   "metadata": {},
   "outputs": [],
   "source": [
    "# creating profile for (retired wealthy) (over $100,000)\n",
    "df_instacart.loc[(df_instacart['Age'] >= 65) & (df_instacart['Annual_income'] > 100000), 'customer_profile'] = 'retired wealthy'"
   ]
  },
  {
   "cell_type": "code",
   "execution_count": 19,
   "id": "1a9f3fb4",
   "metadata": {},
   "outputs": [],
   "source": [
    "# creating profile for (retired least wealthy) (below $100,000)\n",
    "df_instacart.loc[(df_instacart['Age'] >= 65) & (df_instacart['Annual_income'] < 100000), 'customer_profile'] = 'retired_least wealthy'"
   ]
  },
  {
   "cell_type": "code",
   "execution_count": 20,
   "id": "dde499f0",
   "metadata": {},
   "outputs": [],
   "source": [
    "# labelling everyone else as \"other\"\n",
    "df_instacart['customer_profile'] = df_instacart['customer_profile'].fillna('other')"
   ]
  },
  {
   "cell_type": "code",
   "execution_count": 21,
   "id": "7c1de0c8",
   "metadata": {},
   "outputs": [
    {
     "data": {
      "text/plain": [
       "retired wealthy              5741763\n",
       "big family_low income        3593741\n",
       "small family_low income      3572325\n",
       "single adult_low income      3568827\n",
       "medium family_low income     3568488\n",
       "retired_least wealthy        2453781\n",
       "single adult_high income     2148896\n",
       "big family_high income       2128025\n",
       "small family_high income     2117418\n",
       "medium family_high income    2070926\n",
       "other                            374\n",
       "Name: customer_profile, dtype: int64"
      ]
     },
     "execution_count": 21,
     "metadata": {},
     "output_type": "execute_result"
    }
   ],
   "source": [
    "df_instacart['customer_profile'].value_counts(dropna = False)"
   ]
  },
  {
   "cell_type": "markdown",
   "id": "c14913e5",
   "metadata": {},
   "source": [
    "# (6) Create an appropriate visualization to show the distribution of profiles."
   ]
  },
  {
   "cell_type": "code",
   "execution_count": 22,
   "id": "20e63c6e",
   "metadata": {},
   "outputs": [
    {
     "data": {
      "text/plain": [
       "Text(0.5, 1.0, 'customers profiles')"
      ]
     },
     "execution_count": 22,
     "metadata": {},
     "output_type": "execute_result"
    },
    {
     "data": {
      "image/png": "[encoded data removed]",
      "text/plain": [
       "<Figure size 640x480 with 1 Axes>"
      ]
     },
     "metadata": {},
     "output_type": "display_data"
    }
   ],
   "source": [
    "bar = df_instacart['customer_profile'].value_counts().plot.bar()\n",
    "plt.ylabel(\"customers (in tens of millions)\")\n",
    "plt.title (\"customers profiles\")"
   ]
  },
  {
   "cell_type": "code",
   "execution_count": 23,
   "id": "fa025910",
   "metadata": {},
   "outputs": [],
   "source": [
    "#Save the bar chart of customer profile#\n",
    "bar.figure.savefig(os.path.join(path, '04 Analysis', 'Visualization', 'customers_profiles.png'), bbox_inches='tight')"
   ]
  },
  {
   "cell_type": "markdown",
   "id": "2bdf55ce",
   "metadata": {},
   "source": [
    "# (7) Aggregate the max, mean, and min variables on a customer-profile level for usage frequency and expenditure."
   ]
  },
  {
   "cell_type": "code",
   "execution_count": 27,
   "id": "d64b1d9a",
   "metadata": {},
   "outputs": [
    {
     "data": {
      "text/html": [
       "<div>\n",
       "<style scoped>\n",
       "    .dataframe tbody tr th:only-of-type {\n",
       "        vertical-align: middle;\n",
       "    }\n",
       "\n",
       "    .dataframe tbody tr th {\n",
       "        vertical-align: top;\n",
       "    }\n",
       "\n",
       "    .dataframe thead tr th {\n",
       "        text-align: left;\n",
       "    }\n",
       "\n",
       "    .dataframe thead tr:last-of-type th {\n",
       "        text-align: right;\n",
       "    }\n",
       "</style>\n",
       "<table border=\"1\" class=\"dataframe\">\n",
       "  <thead>\n",
       "    <tr>\n",
       "      <th></th>\n",
       "      <th colspan=\"3\" halign=\"left\">prices</th>\n",
       "      <th colspan=\"3\" halign=\"left\">days_since_prior_order</th>\n",
       "    </tr>\n",
       "    <tr>\n",
       "      <th></th>\n",
       "      <th>mean</th>\n",
       "      <th>min</th>\n",
       "      <th>max</th>\n",
       "      <th>mean</th>\n",
       "      <th>min</th>\n",
       "      <th>max</th>\n",
       "    </tr>\n",
       "    <tr>\n",
       "      <th>customer_profile</th>\n",
       "      <th></th>\n",
       "      <th></th>\n",
       "      <th></th>\n",
       "      <th></th>\n",
       "      <th></th>\n",
       "      <th></th>\n",
       "    </tr>\n",
       "  </thead>\n",
       "  <tbody>\n",
       "    <tr>\n",
       "      <th>big family_high income</th>\n",
       "      <td>7.952499</td>\n",
       "      <td>1.0</td>\n",
       "      <td>25.0</td>\n",
       "      <td>10.837873</td>\n",
       "      <td>0.0</td>\n",
       "      <td>30.0</td>\n",
       "    </tr>\n",
       "    <tr>\n",
       "      <th>big family_low income</th>\n",
       "      <td>7.699736</td>\n",
       "      <td>1.0</td>\n",
       "      <td>25.0</td>\n",
       "      <td>10.819609</td>\n",
       "      <td>0.0</td>\n",
       "      <td>30.0</td>\n",
       "    </tr>\n",
       "    <tr>\n",
       "      <th>medium family_high income</th>\n",
       "      <td>7.956469</td>\n",
       "      <td>1.0</td>\n",
       "      <td>25.0</td>\n",
       "      <td>10.866973</td>\n",
       "      <td>0.0</td>\n",
       "      <td>30.0</td>\n",
       "    </tr>\n",
       "    <tr>\n",
       "      <th>medium family_low income</th>\n",
       "      <td>7.680003</td>\n",
       "      <td>1.0</td>\n",
       "      <td>25.0</td>\n",
       "      <td>10.883109</td>\n",
       "      <td>0.0</td>\n",
       "      <td>30.0</td>\n",
       "    </tr>\n",
       "    <tr>\n",
       "      <th>other</th>\n",
       "      <td>7.956150</td>\n",
       "      <td>1.1</td>\n",
       "      <td>24.1</td>\n",
       "      <td>9.417074</td>\n",
       "      <td>1.0</td>\n",
       "      <td>30.0</td>\n",
       "    </tr>\n",
       "    <tr>\n",
       "      <th>retired wealthy</th>\n",
       "      <td>7.955200</td>\n",
       "      <td>1.0</td>\n",
       "      <td>25.0</td>\n",
       "      <td>10.774731</td>\n",
       "      <td>0.0</td>\n",
       "      <td>30.0</td>\n",
       "    </tr>\n",
       "    <tr>\n",
       "      <th>retired_least wealthy</th>\n",
       "      <td>7.425941</td>\n",
       "      <td>1.0</td>\n",
       "      <td>25.0</td>\n",
       "      <td>10.889757</td>\n",
       "      <td>0.0</td>\n",
       "      <td>30.0</td>\n",
       "    </tr>\n",
       "    <tr>\n",
       "      <th>single adult_high income</th>\n",
       "      <td>7.948163</td>\n",
       "      <td>1.0</td>\n",
       "      <td>25.0</td>\n",
       "      <td>10.685417</td>\n",
       "      <td>0.0</td>\n",
       "      <td>30.0</td>\n",
       "    </tr>\n",
       "    <tr>\n",
       "      <th>single adult_low income</th>\n",
       "      <td>7.687034</td>\n",
       "      <td>1.0</td>\n",
       "      <td>25.0</td>\n",
       "      <td>10.896386</td>\n",
       "      <td>0.0</td>\n",
       "      <td>30.0</td>\n",
       "    </tr>\n",
       "    <tr>\n",
       "      <th>small family_high income</th>\n",
       "      <td>7.951992</td>\n",
       "      <td>1.0</td>\n",
       "      <td>25.0</td>\n",
       "      <td>10.800957</td>\n",
       "      <td>0.0</td>\n",
       "      <td>30.0</td>\n",
       "    </tr>\n",
       "    <tr>\n",
       "      <th>small family_low income</th>\n",
       "      <td>7.698928</td>\n",
       "      <td>1.0</td>\n",
       "      <td>25.0</td>\n",
       "      <td>10.817945</td>\n",
       "      <td>0.0</td>\n",
       "      <td>30.0</td>\n",
       "    </tr>\n",
       "  </tbody>\n",
       "</table>\n",
       "</div>"
      ],
      "text/plain": [
       "                             prices            days_since_prior_order       \\\n",
       "                               mean  min   max                   mean  min   \n",
       "customer_profile                                                             \n",
       "big family_high income     7.952499  1.0  25.0              10.837873  0.0   \n",
       "big family_low income      7.699736  1.0  25.0              10.819609  0.0   \n",
       "medium family_high income  7.956469  1.0  25.0              10.866973  0.0   \n",
       "medium family_low income   7.680003  1.0  25.0              10.883109  0.0   \n",
       "other                      7.956150  1.1  24.1               9.417074  1.0   \n",
       "retired wealthy            7.955200  1.0  25.0              10.774731  0.0   \n",
       "retired_least wealthy      7.425941  1.0  25.0              10.889757  0.0   \n",
       "single adult_high income   7.948163  1.0  25.0              10.685417  0.0   \n",
       "single adult_low income    7.687034  1.0  25.0              10.896386  0.0   \n",
       "small family_high income   7.951992  1.0  25.0              10.800957  0.0   \n",
       "small family_low income    7.698928  1.0  25.0              10.817945  0.0   \n",
       "\n",
       "                                 \n",
       "                            max  \n",
       "customer_profile                 \n",
       "big family_high income     30.0  \n",
       "big family_low income      30.0  \n",
       "medium family_high income  30.0  \n",
       "medium family_low income   30.0  \n",
       "other                      30.0  \n",
       "retired wealthy            30.0  \n",
       "retired_least wealthy      30.0  \n",
       "single adult_high income   30.0  \n",
       "single adult_low income    30.0  \n",
       "small family_high income   30.0  \n",
       "small family_low income    30.0  "
      ]
     },
     "execution_count": 27,
     "metadata": {},
     "output_type": "execute_result"
    }
   ],
   "source": [
    "# aggregating min, max, mean of prices and avg_days_since_last_order for all profiles\n",
    "df_instacart.groupby('customer_profile').agg({'prices': ['mean', 'min', 'max'], 'days_since_prior_order': ['mean', 'min', 'max']})"
   ]
  },
  {
   "cell_type": "markdown",
   "id": "47bb7bec",
   "metadata": {},
   "source": [
    "# Compare your customer profiles with regions and departments. Can you identify a link between them? Customers may demonstrate different behaviors across regions, which could make this information important.¶"
   ]
  },
  {
   "cell_type": "code",
   "execution_count": 29,
   "id": "42ee4978",
   "metadata": {},
   "outputs": [],
   "source": [
    "# creating a crosstab to compare different profiles by region\n",
    "crosstab_region = pd.crosstab(df_instacart['customer_profile'], df_instacart['region'], dropna = False)"
   ]
  },
  {
   "cell_type": "code",
   "execution_count": 30,
   "id": "6718031d",
   "metadata": {
    "scrolled": true
   },
   "outputs": [
    {
     "data": {
      "text/html": [
       "<div>\n",
       "<style scoped>\n",
       "    .dataframe tbody tr th:only-of-type {\n",
       "        vertical-align: middle;\n",
       "    }\n",
       "\n",
       "    .dataframe tbody tr th {\n",
       "        vertical-align: top;\n",
       "    }\n",
       "\n",
       "    .dataframe thead th {\n",
       "        text-align: right;\n",
       "    }\n",
       "</style>\n",
       "<table border=\"1\" class=\"dataframe\">\n",
       "  <thead>\n",
       "    <tr style=\"text-align: right;\">\n",
       "      <th>region</th>\n",
       "      <th>Midwest</th>\n",
       "      <th>Northeast</th>\n",
       "      <th>South</th>\n",
       "      <th>West</th>\n",
       "    </tr>\n",
       "    <tr>\n",
       "      <th>customer_profile</th>\n",
       "      <th></th>\n",
       "      <th></th>\n",
       "      <th></th>\n",
       "      <th></th>\n",
       "    </tr>\n",
       "  </thead>\n",
       "  <tbody>\n",
       "    <tr>\n",
       "      <th>big family_high income</th>\n",
       "      <td>507972</td>\n",
       "      <td>379656</td>\n",
       "      <td>688647</td>\n",
       "      <td>551750</td>\n",
       "    </tr>\n",
       "    <tr>\n",
       "      <th>big family_low income</th>\n",
       "      <td>808919</td>\n",
       "      <td>630471</td>\n",
       "      <td>1215340</td>\n",
       "      <td>939011</td>\n",
       "    </tr>\n",
       "    <tr>\n",
       "      <th>medium family_high income</th>\n",
       "      <td>507510</td>\n",
       "      <td>369634</td>\n",
       "      <td>686094</td>\n",
       "      <td>507688</td>\n",
       "    </tr>\n",
       "    <tr>\n",
       "      <th>medium family_low income</th>\n",
       "      <td>819129</td>\n",
       "      <td>616816</td>\n",
       "      <td>1220448</td>\n",
       "      <td>912095</td>\n",
       "    </tr>\n",
       "    <tr>\n",
       "      <th>other</th>\n",
       "      <td>0</td>\n",
       "      <td>0</td>\n",
       "      <td>374</td>\n",
       "      <td>0</td>\n",
       "    </tr>\n",
       "    <tr>\n",
       "      <th>retired wealthy</th>\n",
       "      <td>1338228</td>\n",
       "      <td>1043604</td>\n",
       "      <td>1893622</td>\n",
       "      <td>1466309</td>\n",
       "    </tr>\n",
       "    <tr>\n",
       "      <th>retired_least wealthy</th>\n",
       "      <td>565818</td>\n",
       "      <td>441203</td>\n",
       "      <td>814839</td>\n",
       "      <td>631921</td>\n",
       "    </tr>\n",
       "    <tr>\n",
       "      <th>single adult_high income</th>\n",
       "      <td>527850</td>\n",
       "      <td>344487</td>\n",
       "      <td>719906</td>\n",
       "      <td>556653</td>\n",
       "    </tr>\n",
       "    <tr>\n",
       "      <th>single adult_low income</th>\n",
       "      <td>824885</td>\n",
       "      <td>631156</td>\n",
       "      <td>1204290</td>\n",
       "      <td>908496</td>\n",
       "    </tr>\n",
       "    <tr>\n",
       "      <th>small family_high income</th>\n",
       "      <td>518533</td>\n",
       "      <td>379103</td>\n",
       "      <td>675302</td>\n",
       "      <td>544480</td>\n",
       "    </tr>\n",
       "    <tr>\n",
       "      <th>small family_low income</th>\n",
       "      <td>842669</td>\n",
       "      <td>628555</td>\n",
       "      <td>1192277</td>\n",
       "      <td>908824</td>\n",
       "    </tr>\n",
       "  </tbody>\n",
       "</table>\n",
       "</div>"
      ],
      "text/plain": [
       "region                     Midwest  Northeast    South     West\n",
       "customer_profile                                               \n",
       "big family_high income      507972     379656   688647   551750\n",
       "big family_low income       808919     630471  1215340   939011\n",
       "medium family_high income   507510     369634   686094   507688\n",
       "medium family_low income    819129     616816  1220448   912095\n",
       "other                            0          0      374        0\n",
       "retired wealthy            1338228    1043604  1893622  1466309\n",
       "retired_least wealthy       565818     441203   814839   631921\n",
       "single adult_high income    527850     344487   719906   556653\n",
       "single adult_low income     824885     631156  1204290   908496\n",
       "small family_high income    518533     379103   675302   544480\n",
       "small family_low income     842669     628555  1192277   908824"
      ]
     },
     "execution_count": 30,
     "metadata": {},
     "output_type": "execute_result"
    }
   ],
   "source": [
    "crosstab_region"
   ]
  },
  {
   "cell_type": "code",
   "execution_count": 39,
   "id": "08475501",
   "metadata": {},
   "outputs": [
    {
     "data": {
      "text/plain": [
       "([<matplotlib.axis.XTick at 0x2680270cc40>,\n",
       "  <matplotlib.axis.XTick at 0x2680270cc70>,\n",
       "  <matplotlib.axis.XTick at 0x267fcff58b0>,\n",
       "  <matplotlib.axis.XTick at 0x26797fd7e80>,\n",
       "  <matplotlib.axis.XTick at 0x267c9dc9580>,\n",
       "  <matplotlib.axis.XTick at 0x267ed6ee370>,\n",
       "  <matplotlib.axis.XTick at 0x267c9e00e80>,\n",
       "  <matplotlib.axis.XTick at 0x267c9e008e0>,\n",
       "  <matplotlib.axis.XTick at 0x2680270c1c0>,\n",
       "  <matplotlib.axis.XTick at 0x267cfd4c550>,\n",
       "  <matplotlib.axis.XTick at 0x267ed6ee670>],\n",
       " [Text(0, 0, 'big family_\\nhigh income '),\n",
       "  Text(1, 0, 'big family_\\nlow income '),\n",
       "  Text(2, 0, 'medium family_\\nhigh income '),\n",
       "  Text(3, 0, 'medium family_\\nlow income '),\n",
       "  Text(4, 0, 'other'),\n",
       "  Text(5, 0, 'retired\\nwealthy '),\n",
       "  Text(6, 0, 'retired_\\nleast wealthy '),\n",
       "  Text(7, 0, 'single adult_\\nhigh income '),\n",
       "  Text(8, 0, 'single adult_\\nlow income'),\n",
       "  Text(9, 0, 'small family_\\nhigh income '),\n",
       "  Text(10, 0, 'small family_\\nlow income')])"
      ]
     },
     "execution_count": 39,
     "metadata": {},
     "output_type": "execute_result"
    },
    {
     "data": {
      "image/png": "[encoded data removed]",
      "text/plain": [
       "<Figure size 2000x500 with 1 Axes>"
      ]
     },
     "metadata": {},
     "output_type": "display_data"
    }
   ],
   "source": [
    "# Creating stacked bar graph to plot profile for regions\n",
    "bar_profile_region = crosstab_region.loc[:,['Midwest','Northeast','South','West']].apply(lambda x: x*100/sum(x), axis=1).plot.bar(stacked=True, rot=0, figsize=(20,5), colormap='tab20c').legend(title=\"Region\", bbox_to_anchor=(1.0,1.0))\n",
    "plt.xlabel(\"\")\n",
    "plt.ylabel(\"% of orders by region\")\n",
    "plt.title (\"Instacart orders by profile and region\")\n",
    "plt.xticks([0,1,2,3,4,5,6,7,8,9,10],['big family_\\nhigh income ','big family_\\nlow income ','medium family_\\nhigh income ','medium family_\\nlow income ','other','retired\\nwealthy ','retired_\\nleast wealthy ','single adult_\\nhigh income ','single adult_\\nlow income','small family_\\nhigh income ', 'small family_\\nlow income'])"
   ]
  },
  {
   "cell_type": "code",
   "execution_count": 40,
   "id": "ec90658d",
   "metadata": {},
   "outputs": [],
   "source": [
    "bar_profile_region.figure.savefig(os.path.join(path, '04 Analysis', 'Visualization', 'profile_region.png'), bbox_inches='tight')"
   ]
  },
  {
   "cell_type": "code",
   "execution_count": 31,
   "id": "4d66b6f1",
   "metadata": {},
   "outputs": [],
   "source": [
    "# creating a crosstab to compare different profiles by region\n",
    "crosstab_department = pd.crosstab(df_instacart['customer_profile'], df_instacart['department_id'], dropna = False)"
   ]
  },
  {
   "cell_type": "code",
   "execution_count": 32,
   "id": "34d58805",
   "metadata": {},
   "outputs": [
    {
     "data": {
      "text/html": [
       "<div>\n",
       "<style scoped>\n",
       "    .dataframe tbody tr th:only-of-type {\n",
       "        vertical-align: middle;\n",
       "    }\n",
       "\n",
       "    .dataframe tbody tr th {\n",
       "        vertical-align: top;\n",
       "    }\n",
       "\n",
       "    .dataframe thead th {\n",
       "        text-align: right;\n",
       "    }\n",
       "</style>\n",
       "<table border=\"1\" class=\"dataframe\">\n",
       "  <thead>\n",
       "    <tr style=\"text-align: right;\">\n",
       "      <th>department_id</th>\n",
       "      <th>1</th>\n",
       "      <th>2</th>\n",
       "      <th>3</th>\n",
       "      <th>4</th>\n",
       "      <th>5</th>\n",
       "      <th>6</th>\n",
       "      <th>7</th>\n",
       "      <th>8</th>\n",
       "      <th>9</th>\n",
       "      <th>10</th>\n",
       "      <th>...</th>\n",
       "      <th>12</th>\n",
       "      <th>13</th>\n",
       "      <th>14</th>\n",
       "      <th>15</th>\n",
       "      <th>16</th>\n",
       "      <th>17</th>\n",
       "      <th>18</th>\n",
       "      <th>19</th>\n",
       "      <th>20</th>\n",
       "      <th>21</th>\n",
       "    </tr>\n",
       "    <tr>\n",
       "      <th>customer_profile</th>\n",
       "      <th></th>\n",
       "      <th></th>\n",
       "      <th></th>\n",
       "      <th></th>\n",
       "      <th></th>\n",
       "      <th></th>\n",
       "      <th></th>\n",
       "      <th></th>\n",
       "      <th></th>\n",
       "      <th></th>\n",
       "      <th></th>\n",
       "      <th></th>\n",
       "      <th></th>\n",
       "      <th></th>\n",
       "      <th></th>\n",
       "      <th></th>\n",
       "      <th></th>\n",
       "      <th></th>\n",
       "      <th></th>\n",
       "      <th></th>\n",
       "      <th></th>\n",
       "    </tr>\n",
       "  </thead>\n",
       "  <tbody>\n",
       "    <tr>\n",
       "      <th>big family_high income</th>\n",
       "      <td>148269</td>\n",
       "      <td>2439</td>\n",
       "      <td>77995</td>\n",
       "      <td>635659</td>\n",
       "      <td>10908</td>\n",
       "      <td>17860</td>\n",
       "      <td>167832</td>\n",
       "      <td>7449</td>\n",
       "      <td>59156</td>\n",
       "      <td>1897</td>\n",
       "      <td>...</td>\n",
       "      <td>50414</td>\n",
       "      <td>124562</td>\n",
       "      <td>44223</td>\n",
       "      <td>72922</td>\n",
       "      <td>359813</td>\n",
       "      <td>48501</td>\n",
       "      <td>31748</td>\n",
       "      <td>164201</td>\n",
       "      <td>68441</td>\n",
       "      <td>4194</td>\n",
       "    </tr>\n",
       "    <tr>\n",
       "      <th>big family_low income</th>\n",
       "      <td>244405</td>\n",
       "      <td>3859</td>\n",
       "      <td>128238</td>\n",
       "      <td>1046157</td>\n",
       "      <td>17231</td>\n",
       "      <td>29096</td>\n",
       "      <td>302552</td>\n",
       "      <td>9224</td>\n",
       "      <td>94664</td>\n",
       "      <td>4163</td>\n",
       "      <td>...</td>\n",
       "      <td>75412</td>\n",
       "      <td>203976</td>\n",
       "      <td>79000</td>\n",
       "      <td>114729</td>\n",
       "      <td>595563</td>\n",
       "      <td>80781</td>\n",
       "      <td>45258</td>\n",
       "      <td>344338</td>\n",
       "      <td>117746</td>\n",
       "      <td>7906</td>\n",
       "    </tr>\n",
       "    <tr>\n",
       "      <th>medium family_high income</th>\n",
       "      <td>144982</td>\n",
       "      <td>2187</td>\n",
       "      <td>78502</td>\n",
       "      <td>608801</td>\n",
       "      <td>10332</td>\n",
       "      <td>17318</td>\n",
       "      <td>165516</td>\n",
       "      <td>5949</td>\n",
       "      <td>57340</td>\n",
       "      <td>2003</td>\n",
       "      <td>...</td>\n",
       "      <td>49473</td>\n",
       "      <td>123306</td>\n",
       "      <td>43485</td>\n",
       "      <td>71086</td>\n",
       "      <td>351215</td>\n",
       "      <td>47357</td>\n",
       "      <td>30698</td>\n",
       "      <td>160048</td>\n",
       "      <td>68210</td>\n",
       "      <td>4324</td>\n",
       "    </tr>\n",
       "    <tr>\n",
       "      <th>medium family_low income</th>\n",
       "      <td>243688</td>\n",
       "      <td>4052</td>\n",
       "      <td>126046</td>\n",
       "      <td>1036645</td>\n",
       "      <td>15231</td>\n",
       "      <td>28634</td>\n",
       "      <td>305532</td>\n",
       "      <td>10764</td>\n",
       "      <td>91173</td>\n",
       "      <td>4306</td>\n",
       "      <td>...</td>\n",
       "      <td>72916</td>\n",
       "      <td>200144</td>\n",
       "      <td>79934</td>\n",
       "      <td>112376</td>\n",
       "      <td>587672</td>\n",
       "      <td>81318</td>\n",
       "      <td>45878</td>\n",
       "      <td>351395</td>\n",
       "      <td>114405</td>\n",
       "      <td>7473</td>\n",
       "    </tr>\n",
       "    <tr>\n",
       "      <th>other</th>\n",
       "      <td>48</td>\n",
       "      <td>1</td>\n",
       "      <td>8</td>\n",
       "      <td>81</td>\n",
       "      <td>0</td>\n",
       "      <td>4</td>\n",
       "      <td>25</td>\n",
       "      <td>0</td>\n",
       "      <td>22</td>\n",
       "      <td>0</td>\n",
       "      <td>...</td>\n",
       "      <td>17</td>\n",
       "      <td>44</td>\n",
       "      <td>2</td>\n",
       "      <td>27</td>\n",
       "      <td>51</td>\n",
       "      <td>1</td>\n",
       "      <td>8</td>\n",
       "      <td>22</td>\n",
       "      <td>10</td>\n",
       "      <td>3</td>\n",
       "    </tr>\n",
       "    <tr>\n",
       "      <th>retired wealthy</th>\n",
       "      <td>399406</td>\n",
       "      <td>6312</td>\n",
       "      <td>211418</td>\n",
       "      <td>1719488</td>\n",
       "      <td>25756</td>\n",
       "      <td>48512</td>\n",
       "      <td>454001</td>\n",
       "      <td>18625</td>\n",
       "      <td>158994</td>\n",
       "      <td>5925</td>\n",
       "      <td>...</td>\n",
       "      <td>136237</td>\n",
       "      <td>338609</td>\n",
       "      <td>118771</td>\n",
       "      <td>195602</td>\n",
       "      <td>972729</td>\n",
       "      <td>128236</td>\n",
       "      <td>76986</td>\n",
       "      <td>449325</td>\n",
       "      <td>187730</td>\n",
       "      <td>11892</td>\n",
       "    </tr>\n",
       "    <tr>\n",
       "      <th>retired_least wealthy</th>\n",
       "      <td>164844</td>\n",
       "      <td>2634</td>\n",
       "      <td>84579</td>\n",
       "      <td>688616</td>\n",
       "      <td>10937</td>\n",
       "      <td>18687</td>\n",
       "      <td>230019</td>\n",
       "      <td>6490</td>\n",
       "      <td>58322</td>\n",
       "      <td>3020</td>\n",
       "      <td>...</td>\n",
       "      <td>44913</td>\n",
       "      <td>133774</td>\n",
       "      <td>56525</td>\n",
       "      <td>71907</td>\n",
       "      <td>395343</td>\n",
       "      <td>58394</td>\n",
       "      <td>29218</td>\n",
       "      <td>279224</td>\n",
       "      <td>77469</td>\n",
       "      <td>5023</td>\n",
       "    </tr>\n",
       "    <tr>\n",
       "      <th>single adult_high income</th>\n",
       "      <td>148591</td>\n",
       "      <td>2443</td>\n",
       "      <td>81833</td>\n",
       "      <td>640879</td>\n",
       "      <td>11729</td>\n",
       "      <td>18276</td>\n",
       "      <td>171446</td>\n",
       "      <td>6812</td>\n",
       "      <td>58966</td>\n",
       "      <td>2124</td>\n",
       "      <td>...</td>\n",
       "      <td>49043</td>\n",
       "      <td>126995</td>\n",
       "      <td>46057</td>\n",
       "      <td>72721</td>\n",
       "      <td>363356</td>\n",
       "      <td>47301</td>\n",
       "      <td>30385</td>\n",
       "      <td>166147</td>\n",
       "      <td>70775</td>\n",
       "      <td>4342</td>\n",
       "    </tr>\n",
       "    <tr>\n",
       "      <th>single adult_low income</th>\n",
       "      <td>239653</td>\n",
       "      <td>4116</td>\n",
       "      <td>127144</td>\n",
       "      <td>1039470</td>\n",
       "      <td>15959</td>\n",
       "      <td>29672</td>\n",
       "      <td>305253</td>\n",
       "      <td>10024</td>\n",
       "      <td>92034</td>\n",
       "      <td>3782</td>\n",
       "      <td>...</td>\n",
       "      <td>72504</td>\n",
       "      <td>201174</td>\n",
       "      <td>77889</td>\n",
       "      <td>113556</td>\n",
       "      <td>592220</td>\n",
       "      <td>79043</td>\n",
       "      <td>47051</td>\n",
       "      <td>343995</td>\n",
       "      <td>117239</td>\n",
       "      <td>7610</td>\n",
       "    </tr>\n",
       "    <tr>\n",
       "      <th>small family_high income</th>\n",
       "      <td>147204</td>\n",
       "      <td>2368</td>\n",
       "      <td>77955</td>\n",
       "      <td>632094</td>\n",
       "      <td>10417</td>\n",
       "      <td>18021</td>\n",
       "      <td>167642</td>\n",
       "      <td>6254</td>\n",
       "      <td>58253</td>\n",
       "      <td>2269</td>\n",
       "      <td>...</td>\n",
       "      <td>50368</td>\n",
       "      <td>126448</td>\n",
       "      <td>45058</td>\n",
       "      <td>72895</td>\n",
       "      <td>359047</td>\n",
       "      <td>48563</td>\n",
       "      <td>26879</td>\n",
       "      <td>164858</td>\n",
       "      <td>66933</td>\n",
       "      <td>4700</td>\n",
       "    </tr>\n",
       "    <tr>\n",
       "      <th>small family_low income</th>\n",
       "      <td>240641</td>\n",
       "      <td>4000</td>\n",
       "      <td>127110</td>\n",
       "      <td>1031383</td>\n",
       "      <td>16127</td>\n",
       "      <td>29911</td>\n",
       "      <td>302083</td>\n",
       "      <td>11469</td>\n",
       "      <td>93212</td>\n",
       "      <td>3962</td>\n",
       "      <td>...</td>\n",
       "      <td>73484</td>\n",
       "      <td>203673</td>\n",
       "      <td>79906</td>\n",
       "      <td>114253</td>\n",
       "      <td>600173</td>\n",
       "      <td>80362</td>\n",
       "      <td>46283</td>\n",
       "      <td>342853</td>\n",
       "      <td>114876</td>\n",
       "      <td>7301</td>\n",
       "    </tr>\n",
       "  </tbody>\n",
       "</table>\n",
       "<p>11 rows × 21 columns</p>\n",
       "</div>"
      ],
      "text/plain": [
       "department_id                  1     2       3        4      5      6   \\\n",
       "customer_profile                                                         \n",
       "big family_high income     148269  2439   77995   635659  10908  17860   \n",
       "big family_low income      244405  3859  128238  1046157  17231  29096   \n",
       "medium family_high income  144982  2187   78502   608801  10332  17318   \n",
       "medium family_low income   243688  4052  126046  1036645  15231  28634   \n",
       "other                          48     1       8       81      0      4   \n",
       "retired wealthy            399406  6312  211418  1719488  25756  48512   \n",
       "retired_least wealthy      164844  2634   84579   688616  10937  18687   \n",
       "single adult_high income   148591  2443   81833   640879  11729  18276   \n",
       "single adult_low income    239653  4116  127144  1039470  15959  29672   \n",
       "small family_high income   147204  2368   77955   632094  10417  18021   \n",
       "small family_low income    240641  4000  127110  1031383  16127  29911   \n",
       "\n",
       "department_id                  7      8       9     10  ...      12      13  \\\n",
       "customer_profile                                        ...                   \n",
       "big family_high income     167832   7449   59156  1897  ...   50414  124562   \n",
       "big family_low income      302552   9224   94664  4163  ...   75412  203976   \n",
       "medium family_high income  165516   5949   57340  2003  ...   49473  123306   \n",
       "medium family_low income   305532  10764   91173  4306  ...   72916  200144   \n",
       "other                          25      0      22     0  ...      17      44   \n",
       "retired wealthy            454001  18625  158994  5925  ...  136237  338609   \n",
       "retired_least wealthy      230019   6490   58322  3020  ...   44913  133774   \n",
       "single adult_high income   171446   6812   58966  2124  ...   49043  126995   \n",
       "single adult_low income    305253  10024   92034  3782  ...   72504  201174   \n",
       "small family_high income   167642   6254   58253  2269  ...   50368  126448   \n",
       "small family_low income    302083  11469   93212  3962  ...   73484  203673   \n",
       "\n",
       "department_id                  14      15      16      17     18      19  \\\n",
       "customer_profile                                                           \n",
       "big family_high income      44223   72922  359813   48501  31748  164201   \n",
       "big family_low income       79000  114729  595563   80781  45258  344338   \n",
       "medium family_high income   43485   71086  351215   47357  30698  160048   \n",
       "medium family_low income    79934  112376  587672   81318  45878  351395   \n",
       "other                           2      27      51       1      8      22   \n",
       "retired wealthy            118771  195602  972729  128236  76986  449325   \n",
       "retired_least wealthy       56525   71907  395343   58394  29218  279224   \n",
       "single adult_high income    46057   72721  363356   47301  30385  166147   \n",
       "single adult_low income     77889  113556  592220   79043  47051  343995   \n",
       "small family_high income    45058   72895  359047   48563  26879  164858   \n",
       "small family_low income     79906  114253  600173   80362  46283  342853   \n",
       "\n",
       "department_id                  20     21  \n",
       "customer_profile                          \n",
       "big family_high income      68441   4194  \n",
       "big family_low income      117746   7906  \n",
       "medium family_high income   68210   4324  \n",
       "medium family_low income   114405   7473  \n",
       "other                          10      3  \n",
       "retired wealthy            187730  11892  \n",
       "retired_least wealthy       77469   5023  \n",
       "single adult_high income    70775   4342  \n",
       "single adult_low income    117239   7610  \n",
       "small family_high income    66933   4700  \n",
       "small family_low income    114876   7301  \n",
       "\n",
       "[11 rows x 21 columns]"
      ]
     },
     "execution_count": 32,
     "metadata": {},
     "output_type": "execute_result"
    }
   ],
   "source": [
    "crosstab_department"
   ]
  },
  {
   "cell_type": "code",
   "execution_count": 41,
   "id": "0f81c22e",
   "metadata": {},
   "outputs": [
    {
     "data": {
      "text/plain": [
       "([<matplotlib.axis.XTick at 0x267aff3aee0>,\n",
       "  <matplotlib.axis.XTick at 0x267aff3aeb0>,\n",
       "  <matplotlib.axis.XTick at 0x267fb94f2e0>,\n",
       "  <matplotlib.axis.XTick at 0x267f256a3d0>,\n",
       "  <matplotlib.axis.XTick at 0x267f256ab20>,\n",
       "  <matplotlib.axis.XTick at 0x267f28862b0>,\n",
       "  <matplotlib.axis.XTick at 0x267f256a790>,\n",
       "  <matplotlib.axis.XTick at 0x267f28868e0>,\n",
       "  <matplotlib.axis.XTick at 0x267aff3a5e0>,\n",
       "  <matplotlib.axis.XTick at 0x267f2f96820>,\n",
       "  <matplotlib.axis.XTick at 0x267f326b040>],\n",
       " [Text(0, 0, 'big family_\\nhigh income '),\n",
       "  Text(1, 0, 'big family_\\nlow income '),\n",
       "  Text(2, 0, 'medium family_\\nhigh income '),\n",
       "  Text(3, 0, 'medium family_\\nlow income '),\n",
       "  Text(4, 0, 'other'),\n",
       "  Text(5, 0, 'retired\\nwealthy '),\n",
       "  Text(6, 0, 'retired_\\nleast wealthy '),\n",
       "  Text(7, 0, 'single adult_\\nhigh income '),\n",
       "  Text(8, 0, 'single adult_\\nlow income'),\n",
       "  Text(9, 0, 'small family_\\nhigh income '),\n",
       "  Text(10, 0, 'small family_\\nlow income')])"
      ]
     },
     "execution_count": 41,
     "metadata": {},
     "output_type": "execute_result"
    },
    {
     "data": {
      "image/png": "[encoded data removed]",
      "text/plain": [
       "<Figure size 2000x500 with 1 Axes>"
      ]
     },
     "metadata": {},
     "output_type": "display_data"
    }
   ],
   "source": [
    "# Creating stacked bar to plot profile for regions\n",
    "bar_profile_department = crosstab_department.loc[:,[1,2,3,4,5,6,7,8,9,10,11,12,13,14,15,16,17,18,19,20,21]].apply(lambda x: x*100/sum(x), axis=1).plot.bar(stacked=True, rot=0, figsize=(20,5), colormap='tab20c').legend(title=\"Dept ID\", bbox_to_anchor=(1.0,1.0))\n",
    "plt.xlabel(\"\")\n",
    "plt.ylabel(\"% of orders by Department\")\n",
    "plt.title (\"Instacart orders by profile and department\")\n",
    "plt.xticks([0,1,2,3,4,5,6,7,8,9,10],['big family_\\nhigh income ','big family_\\nlow income ','medium family_\\nhigh income ','medium family_\\nlow income ','other','retired\\nwealthy ','retired_\\nleast wealthy ','single adult_\\nhigh income ','single adult_\\nlow income','small family_\\nhigh income ', 'small family_\\nlow income'])"
   ]
  },
  {
   "cell_type": "code",
   "execution_count": 42,
   "id": "e18c8eaf",
   "metadata": {},
   "outputs": [
    {
     "data": {
      "text/plain": [
       "(30964564, 33)"
      ]
     },
     "execution_count": 42,
     "metadata": {},
     "output_type": "execute_result"
    }
   ],
   "source": [
    "df_instacart.shape"
   ]
  },
  {
   "cell_type": "code",
   "execution_count": null,
   "id": "1f7a570c",
   "metadata": {},
   "outputs": [],
   "source": []
  }
 ],
 "metadata": {
  "kernelspec": {
   "display_name": "Python 3 (ipykernel)",
   "language": "python",
   "name": "python3"
  },
  "language_info": {
   "codemirror_mode": {
    "name": "ipython",
    "version": 3
   },
   "file_extension": ".py",
   "mimetype": "text/x-python",
   "name": "python",
   "nbconvert_exporter": "python",
   "pygments_lexer": "ipython3",
   "version": "3.9.13"
  }
 },
 "nbformat": 4,
 "nbformat_minor": 5
}
